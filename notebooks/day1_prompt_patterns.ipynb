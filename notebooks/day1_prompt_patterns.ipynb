{
 "cells": [
  {
   "cell_type": "code",
   "execution_count": null,
   "id": "1cf1485d",
   "metadata": {},
   "outputs": [],
   "source": [
    "COT Version:\n",
    "I have left over rice, Steak and beans. What can I make with these ingredients?\n",
    "Think step by step to come up with a simple and healthy recipe.\n",
    "First, consider how the flavors of these ingredients pair together.\n",
    "Then, think about which cooking methods would best suit these ingredients.\n",
    "Finally, combine these insights into a dish that is both tasty and nutritious.\n",
    "\n",
    "React Version:\n",
    "Task: Create a simple and healthy recipe using leftover rice, steak, and beans.\n",
    "Thought: I want a recipe that highlights the flavors of steak, rice, and beans while being quick and nutritious.\n",
    "Action:  Match flavors profiles and consider fast, healthy cooking methods.\n",
    "Observation: These ingredients work well together in stir-fries, burrito bowls, or skillet meals.\n",
    "Thought: A stir-fry would be quick and keeps nutrients intact.\n",
    "Action: Draft a recipe using stir-fry as the base method.\n",
    "Observation: A stir-fry will allow the ingredients to cook quickly and retain their nutrients.\n",
    "Final Answer: Make a Steak, Bean & Rice Stir-Fry. Slice the steak into thin strips and marinate briefly in soy sauce, garlic, and ginger. In a hot pan, sauté the steak until just browned. Add the beans and leftover rice, stirring everything together. Optionally, toss in chopped vegetables like bell pepper or spinach. Finish with a splash of sesame oil or lime juice. Serve hot for a quick, healthy meal.\n"
   ]
  }
 ],
 "metadata": {
  "language_info": {
   "name": "python"
  }
 },
 "nbformat": 4,
 "nbformat_minor": 5
}
